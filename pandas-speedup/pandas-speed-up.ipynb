{
 "cells": [
  {
   "cell_type": "markdown",
   "id": "81a12be6-ac42-400d-8aad-98beabaf4a08",
   "metadata": {
    "pycharm": {
     "name": "#%% md\n"
    }
   },
   "source": [
    "# Speedup Pandas"
   ]
  },
  {
   "cell_type": "code",
   "execution_count": 1,
   "id": "3db1d454-7d1b-4212-bc5e-092ec7af817b",
   "metadata": {
    "pycharm": {
     "name": "#%%\n"
    }
   },
   "outputs": [
    {
     "name": "stdout",
     "output_type": "stream",
     "text": [
      "time: 200 µs (started: 2022-10-12 13:47:35 -04:00)\n"
     ]
    }
   ],
   "source": [
    "%load_ext autotime"
   ]
  },
  {
   "cell_type": "code",
   "execution_count": 2,
   "id": "c4504eb0-d798-4bce-a8c7-cd23d6a43cf2",
   "metadata": {
    "pycharm": {
     "name": "#%%\n"
    }
   },
   "outputs": [
    {
     "name": "stdout",
     "output_type": "stream",
     "text": [
      "Shape: 11,709 rows - 14 cols\n"
     ]
    },
    {
     "data": {
      "text/html": [
       "<div>\n",
       "<style scoped>\n",
       "    .dataframe tbody tr th:only-of-type {\n",
       "        vertical-align: middle;\n",
       "    }\n",
       "\n",
       "    .dataframe tbody tr th {\n",
       "        vertical-align: top;\n",
       "    }\n",
       "\n",
       "    .dataframe thead th {\n",
       "        text-align: right;\n",
       "    }\n",
       "</style>\n",
       "<table border=\"1\" class=\"dataframe\">\n",
       "  <thead>\n",
       "    <tr style=\"text-align: right;\">\n",
       "      <th></th>\n",
       "      <th>Series_reference</th>\n",
       "      <th>Period</th>\n",
       "      <th>Data_value</th>\n",
       "      <th>STATUS</th>\n",
       "      <th>UNITS</th>\n",
       "      <th>MAGNTUDE</th>\n",
       "      <th>Subject</th>\n",
       "      <th>Group</th>\n",
       "      <th>Series_title_1</th>\n",
       "      <th>Series_title_2</th>\n",
       "      <th>Series_title_3</th>\n",
       "      <th>Series_title_4</th>\n",
       "      <th>Series_title_5</th>\n",
       "      <th>pk</th>\n",
       "    </tr>\n",
       "  </thead>\n",
       "  <tbody>\n",
       "    <tr>\n",
       "      <th>0</th>\n",
       "      <td>ALCA.S1</td>\n",
       "      <td>1935.12</td>\n",
       "      <td>51.1</td>\n",
       "      <td>FINAL</td>\n",
       "      <td>Litres</td>\n",
       "      <td>6</td>\n",
       "      <td>Alcohol Available for Consumption - ALC</td>\n",
       "      <td>(DISC) Volume &amp; Volume Per Head</td>\n",
       "      <td>Beer</td>\n",
       "      <td>NaN</td>\n",
       "      <td>NaN</td>\n",
       "      <td>NaN</td>\n",
       "      <td>NaN</td>\n",
       "      <td>0</td>\n",
       "    </tr>\n",
       "    <tr>\n",
       "      <th>1</th>\n",
       "      <td>ALCA.S1</td>\n",
       "      <td>1936.12</td>\n",
       "      <td>58.7</td>\n",
       "      <td>FINAL</td>\n",
       "      <td>Litres</td>\n",
       "      <td>6</td>\n",
       "      <td>Alcohol Available for Consumption - ALC</td>\n",
       "      <td>(DISC) Volume &amp; Volume Per Head</td>\n",
       "      <td>Beer</td>\n",
       "      <td>NaN</td>\n",
       "      <td>NaN</td>\n",
       "      <td>NaN</td>\n",
       "      <td>NaN</td>\n",
       "      <td>1</td>\n",
       "    </tr>\n",
       "    <tr>\n",
       "      <th>2</th>\n",
       "      <td>ALCA.S1</td>\n",
       "      <td>1937.12</td>\n",
       "      <td>68.7</td>\n",
       "      <td>FINAL</td>\n",
       "      <td>Litres</td>\n",
       "      <td>6</td>\n",
       "      <td>Alcohol Available for Consumption - ALC</td>\n",
       "      <td>(DISC) Volume &amp; Volume Per Head</td>\n",
       "      <td>Beer</td>\n",
       "      <td>NaN</td>\n",
       "      <td>NaN</td>\n",
       "      <td>NaN</td>\n",
       "      <td>NaN</td>\n",
       "      <td>2</td>\n",
       "    </tr>\n",
       "    <tr>\n",
       "      <th>3</th>\n",
       "      <td>ALCA.S1</td>\n",
       "      <td>1938.12</td>\n",
       "      <td>78.1</td>\n",
       "      <td>FINAL</td>\n",
       "      <td>Litres</td>\n",
       "      <td>6</td>\n",
       "      <td>Alcohol Available for Consumption - ALC</td>\n",
       "      <td>(DISC) Volume &amp; Volume Per Head</td>\n",
       "      <td>Beer</td>\n",
       "      <td>NaN</td>\n",
       "      <td>NaN</td>\n",
       "      <td>NaN</td>\n",
       "      <td>NaN</td>\n",
       "      <td>3</td>\n",
       "    </tr>\n",
       "    <tr>\n",
       "      <th>4</th>\n",
       "      <td>ALCA.S1</td>\n",
       "      <td>1939.12</td>\n",
       "      <td>79.2</td>\n",
       "      <td>FINAL</td>\n",
       "      <td>Litres</td>\n",
       "      <td>6</td>\n",
       "      <td>Alcohol Available for Consumption - ALC</td>\n",
       "      <td>(DISC) Volume &amp; Volume Per Head</td>\n",
       "      <td>Beer</td>\n",
       "      <td>NaN</td>\n",
       "      <td>NaN</td>\n",
       "      <td>NaN</td>\n",
       "      <td>NaN</td>\n",
       "      <td>4</td>\n",
       "    </tr>\n",
       "  </tbody>\n",
       "</table>\n",
       "</div>"
      ],
      "text/plain": [
       "  Series_reference   Period  Data_value STATUS   UNITS  MAGNTUDE  \\\n",
       "0          ALCA.S1  1935.12        51.1  FINAL  Litres         6   \n",
       "1          ALCA.S1  1936.12        58.7  FINAL  Litres         6   \n",
       "2          ALCA.S1  1937.12        68.7  FINAL  Litres         6   \n",
       "3          ALCA.S1  1938.12        78.1  FINAL  Litres         6   \n",
       "4          ALCA.S1  1939.12        79.2  FINAL  Litres         6   \n",
       "\n",
       "                                   Subject                            Group  \\\n",
       "0  Alcohol Available for Consumption - ALC  (DISC) Volume & Volume Per Head   \n",
       "1  Alcohol Available for Consumption - ALC  (DISC) Volume & Volume Per Head   \n",
       "2  Alcohol Available for Consumption - ALC  (DISC) Volume & Volume Per Head   \n",
       "3  Alcohol Available for Consumption - ALC  (DISC) Volume & Volume Per Head   \n",
       "4  Alcohol Available for Consumption - ALC  (DISC) Volume & Volume Per Head   \n",
       "\n",
       "  Series_title_1  Series_title_2  Series_title_3  Series_title_4  \\\n",
       "0           Beer             NaN             NaN             NaN   \n",
       "1           Beer             NaN             NaN             NaN   \n",
       "2           Beer             NaN             NaN             NaN   \n",
       "3           Beer             NaN             NaN             NaN   \n",
       "4           Beer             NaN             NaN             NaN   \n",
       "\n",
       "   Series_title_5  pk  \n",
       "0             NaN   0  \n",
       "1             NaN   1  \n",
       "2             NaN   2  \n",
       "3             NaN   3  \n",
       "4             NaN   4  "
      ]
     },
     "execution_count": 2,
     "metadata": {},
     "output_type": "execute_result"
    },
    {
     "name": "stdout",
     "output_type": "stream",
     "text": [
      "time: 204 ms (started: 2022-10-12 13:47:35 -04:00)\n"
     ]
    }
   ],
   "source": [
    "# Alcohol available for consumption: Year ended December 2021 – CSV\n",
    "# https://stats.govt.nz/large-datasets/csv-files-for-download/\n",
    "# https://stats.govt.nz/assets/Uploads/Alcohol-available-for-consumption/Alcohol-available-for-consumption-Year-ended-December-2021/Download-data/alcohol-available-for-consumption-year-ended-december-2021-csv.csv\n",
    "\n",
    "import pandas as pd\n",
    "\n",
    "df = pd.read_csv(\"data/data.csv\") # 11K\n",
    "\n",
    "# multiply the data to have a bigger dataset\n",
    "# df = pd.concat([df, df, df, df, df, df, df, df, df]) # 100K\n",
    "# df = pd.concat([df, df, df, df, df, df, df, df, df, df]) # 1M\n",
    "# df = pd.concat([df, df, df, df, df, df, df, df, df, df]) # 10M\n",
    "\n",
    "df = df.reset_index(drop=True)\n",
    "df[\"pk\"] = df.index # primary key\n",
    "\n",
    "print(f\"Shape: {df.shape[0]:,} rows - {df.shape[1]:,} cols\")\n",
    "df.head()"
   ]
  },
  {
   "cell_type": "code",
   "execution_count": 3,
   "id": "96103c7a-0fc0-4624-8b20-a745c74b3792",
   "metadata": {
    "pycharm": {
     "name": "#%%\n"
    }
   },
   "outputs": [
    {
     "data": {
      "text/plain": [
       "Series_reference     object\n",
       "Period              float64\n",
       "Data_value          float64\n",
       "STATUS               object\n",
       "UNITS                object\n",
       "MAGNTUDE              int64\n",
       "Subject              object\n",
       "Group                object\n",
       "Series_title_1       object\n",
       "Series_title_2      float64\n",
       "Series_title_3      float64\n",
       "Series_title_4      float64\n",
       "Series_title_5      float64\n",
       "pk                    int64\n",
       "dtype: object"
      ]
     },
     "execution_count": 3,
     "metadata": {},
     "output_type": "execute_result"
    },
    {
     "name": "stdout",
     "output_type": "stream",
     "text": [
      "time: 1.17 ms (started: 2022-10-12 13:47:35 -04:00)\n"
     ]
    }
   ],
   "source": [
    "df.dtypes"
   ]
  },
  {
   "cell_type": "markdown",
   "id": "48cb5711-c9c6-43a4-b629-4e62d35a6c73",
   "metadata": {
    "pycharm": {
     "name": "#%% md\n"
    }
   },
   "source": [
    "## pd.iterrows()"
   ]
  },
  {
   "cell_type": "code",
   "execution_count": 4,
   "id": "b1ea7c21-ea36-4cc2-a433-ff5cc5b52ea4",
   "metadata": {
    "pycharm": {
     "name": "#%%\n"
    }
   },
   "outputs": [
    {
     "data": {
      "application/vnd.jupyter.widget-view+json": {
       "model_id": "ac463089e9624e2ab7f174ca8f560eeb",
       "version_major": 2,
       "version_minor": 0
      },
      "text/plain": [
       "  0%|          | 0/11709 [00:00<?, ?it/s]"
      ]
     },
     "metadata": {},
     "output_type": "display_data"
    },
    {
     "name": "stdout",
     "output_type": "stream",
     "text": [
      "time: 1.19 s (started: 2022-10-12 13:47:35 -04:00)\n"
     ]
    }
   ],
   "source": [
    "import calendar\n",
    "import math\n",
    "from tqdm.notebook import tqdm\n",
    "\n",
    "\n",
    "df[\"heavy_math\"] = pd.NA\n",
    "\n",
    "for index, row in tqdm(df.iterrows(), total=df.shape[0]):\n",
    "    period = str(row[\"Period\"])\n",
    "    pk = row[\"pk\"]\n",
    "    \n",
    "    year, month = period.split(\".\")\n",
    "    day = calendar.monthrange(int(year), int(month))[1]\n",
    "    \n",
    "    heavy_math = math.log((int(year) ** int(month)) * day)\n",
    "    \n",
    "    df.loc[df[\"pk\"] == pk, 'heavy_math'] = heavy_math\n"
   ]
  },
  {
   "cell_type": "markdown",
   "id": "f11d17e2-6097-4a43-93c9-fc62b9f50186",
   "metadata": {
    "pycharm": {
     "name": "#%% md\n"
    }
   },
   "source": [
    "## pd.itertuples()"
   ]
  },
  {
   "cell_type": "code",
   "execution_count": 5,
   "id": "e7b14b33-841f-4b9e-9d16-f5ba4b4eb0ed",
   "metadata": {
    "pycharm": {
     "name": "#%%\n"
    }
   },
   "outputs": [
    {
     "data": {
      "application/vnd.jupyter.widget-view+json": {
       "model_id": "dfad2afac8204e46a6245e263926a11e",
       "version_major": 2,
       "version_minor": 0
      },
      "text/plain": [
       "  0%|          | 0/11709 [00:00<?, ?it/s]"
      ]
     },
     "metadata": {},
     "output_type": "display_data"
    },
    {
     "name": "stdout",
     "output_type": "stream",
     "text": [
      "time: 945 ms (started: 2022-10-12 13:47:37 -04:00)\n"
     ]
    }
   ],
   "source": [
    "import calendar\n",
    "import math\n",
    "from tqdm.notebook import tqdm\n",
    "\n",
    "\n",
    "df[\"heavy_math\"] = pd.NA\n",
    "\n",
    "for row in tqdm(df.itertuples(), total=df.shape[0]):\n",
    "    period = str(row.Period)\n",
    "    pk = row.pk\n",
    "    \n",
    "    year, month = period.split(\".\")\n",
    "    day = calendar.monthrange(int(year), int(month))[1]\n",
    "    \n",
    "    heavy_math = math.log((int(year) ** int(month)) * day)\n",
    "    \n",
    "    df.loc[df[\"pk\"] == pk, 'heavy_math'] = heavy_math\n"
   ]
  },
  {
   "cell_type": "markdown",
   "id": "c272200c-b633-49c5-a980-c99d9e353d8d",
   "metadata": {
    "pycharm": {
     "name": "#%% md\n"
    }
   },
   "source": [
    "## pd.apply()"
   ]
  },
  {
   "cell_type": "code",
   "execution_count": 6,
   "id": "bf0fd35b-a890-4e3d-8e51-22d639221dee",
   "metadata": {
    "pycharm": {
     "name": "#%%\n"
    }
   },
   "outputs": [
    {
     "data": {
      "application/vnd.jupyter.widget-view+json": {
       "model_id": "1965f0401eaa4d5786a6e9cc2ba4edb7",
       "version_major": 2,
       "version_minor": 0
      },
      "text/plain": [
       "  0%|          | 0/11709 [00:00<?, ?it/s]"
      ]
     },
     "metadata": {},
     "output_type": "display_data"
    },
    {
     "name": "stdout",
     "output_type": "stream",
     "text": [
      "time: 97.9 ms (started: 2022-10-12 13:47:38 -04:00)\n"
     ]
    }
   ],
   "source": [
    "import calendar\n",
    "import math\n",
    "\n",
    "from tqdm.notebook import tqdm\n",
    "tqdm.pandas()\n",
    "\n",
    "df[\"heavy_math\"] = pd.NA\n",
    "\n",
    "def process(row):\n",
    "    period = str(row[\"Period\"])\n",
    "    pk = row[\"pk\"]\n",
    "    \n",
    "    year, month = period.split(\".\")\n",
    "    day = calendar.monthrange(int(year), int(month))[1]\n",
    "    \n",
    "    heavy_math = math.log((int(year) ** int(month)) * day)\n",
    "        \n",
    "    return heavy_math\n",
    "\n",
    "# using `df.progress_apply` instead of `df.apply` to show tqdm progress bar\n",
    "df['heavy_math'] = df.progress_apply(lambda row : process(row), axis = 1)"
   ]
  },
  {
   "cell_type": "markdown",
   "id": "a0a83635-bb8e-4d0f-a4d0-ed5ef04a559c",
   "metadata": {
    "pycharm": {
     "name": "#%% md\n"
    }
   },
   "source": [
    "## pandarallel"
   ]
  },
  {
   "cell_type": "code",
   "execution_count": 7,
   "id": "53a27162-869f-431d-b18b-5684e2ede5a7",
   "metadata": {
    "pycharm": {
     "name": "#%%\n"
    }
   },
   "outputs": [
    {
     "name": "stdout",
     "output_type": "stream",
     "text": [
      "INFO: Pandarallel will run on 8 workers.\n",
      "INFO: Pandarallel will use standard multiprocessing data transfer (pipe) to transfer data between the main process and workers.\n"
     ]
    },
    {
     "data": {
      "application/vnd.jupyter.widget-view+json": {
       "model_id": "9d21190d30814d0691edee24bc2cad1b",
       "version_major": 2,
       "version_minor": 0
      },
      "text/plain": [
       "VBox(children=(HBox(children=(IntProgress(value=0, description='0.00%', max=1464), Label(value='0 / 1464'))), …"
      ]
     },
     "metadata": {},
     "output_type": "display_data"
    },
    {
     "name": "stdout",
     "output_type": "stream",
     "text": [
      "time: 138 ms (started: 2022-10-12 13:47:38 -04:00)\n"
     ]
    }
   ],
   "source": [
    "from pandarallel import pandarallel\n",
    "import numpy as np\n",
    "import math\n",
    "import calendar\n",
    "\n",
    "pandarallel.initialize(progress_bar=True)\n",
    "\n",
    "df[\"heavy_math\"] = pd.NA\n",
    "\n",
    "def process_parallel(row):\n",
    "    import calendar\n",
    "    import math\n",
    "\n",
    "    period = str(row[\"Period\"])\n",
    "    pk = row[\"pk\"]\n",
    "    \n",
    "    year, month = period.split(\".\")\n",
    "    day = calendar.monthrange(int(year), int(month))[1]\n",
    "    \n",
    "    try:\n",
    "        heavy_math = math.log((int(year) ** int(month)) * day)\n",
    "    except:\n",
    "        heavy_math = np.inf\n",
    "            \n",
    "    return heavy_math\n",
    "\n",
    "df['heavy_math'] = df.parallel_apply(process_parallel, axis=1)"
   ]
  },
  {
   "cell_type": "markdown",
   "id": "04595cea-cfd4-4c80-893e-9abb196bf425",
   "metadata": {
    "pycharm": {
     "name": "#%% md\n"
    }
   },
   "source": [
    "## Multiprocessing Pool"
   ]
  },
  {
   "cell_type": "raw",
   "id": "0330cf12-5df5-4bdb-bfe9-07277cef2b6c",
   "metadata": {
    "pycharm": {
     "name": "#%% raw\n"
    }
   },
   "source": [
    "# ./src/multicore.py\n",
    "\n",
    "import multiprocessing\n",
    "import numpy as np\n",
    "import calendar\n",
    "import math\n",
    "\n",
    "def multicore_process(d):\n",
    "\n",
    "    for index, row in d.iterrows():\n",
    "        period = str(row[\"Period\"])\n",
    "        pk = row[\"pk\"]\n",
    "        \n",
    "        year, month = period.split(\".\")\n",
    "        day = calendar.monthrange(int(year), int(month))[1]\n",
    "\n",
    "        heavy_math = math.log((int(year) ** int(month)) * day)\n",
    "\n",
    "        d.loc[d[\"pk\"] == pk, 'heavy_math'] = heavy_math\n",
    "\n",
    "    # return the chunk!\n",
    "    return d\n",
    "    \n",
    "def parallelize_dataframe(df, func, n_cores=4):\n",
    "   \n",
    "    # calculate the chunk size as an integer\n",
    "    df_chunks = np.array_split(df, n_cores)\n",
    "    \n",
    "    pool = multiprocessing.Pool(processes=n_cores)\n",
    "    \n",
    "    # apply the function on each chunk\n",
    "    df = pd.concat(pool.map(multicore_process, df_chunks))\n",
    "    \n",
    "    pool.close()\n",
    "    pool.join()\n",
    "    return df"
   ]
  },
  {
   "cell_type": "code",
   "execution_count": 8,
   "id": "506cadc5-c1fe-4763-8594-6990512a1af2",
   "metadata": {
    "pycharm": {
     "name": "#%%\n"
    }
   },
   "outputs": [
    {
     "name": "stdout",
     "output_type": "stream",
     "text": [
      "time: 583 ms (started: 2022-10-12 13:47:38 -04:00)\n"
     ]
    }
   ],
   "source": [
    "from src.multicore import parallelize_dataframe\n",
    "import multiprocessing\n",
    "import pandas as pd\n",
    "\n",
    "df[\"heavy_math\"] = pd.NA\n",
    "\n",
    "# create as many processes as there are CPUs on your machine\n",
    "num_processes = multiprocessing.cpu_count()\n",
    "\n",
    "# apply our function to the dataframe\n",
    "df = parallelize_dataframe(df, parallelize_dataframe, num_processes)"
   ]
  },
  {
   "cell_type": "markdown",
   "id": "7a16448a-8557-4b51-854a-970891a17ddf",
   "metadata": {
    "pycharm": {
     "name": "#%% md\n"
    }
   },
   "source": [
    "## Concurrent Future Pool"
   ]
  },
  {
   "cell_type": "raw",
   "id": "bb6690ce-74c5-4eb2-a3f1-5b4ef99e11ee",
   "metadata": {
    "pycharm": {
     "name": "#%% raw\n"
    }
   },
   "source": [
    "# ./src/multicore.py\n",
    "\n",
    "import multiprocessing\n",
    "import concurrent.futures\n",
    "import pandas as pd\n",
    "import numpy as np\n",
    "import calendar\n",
    "import math\n",
    "\n",
    "\n",
    "def multicore_process(d):\n",
    "\n",
    "    for index, row in d.iterrows():\n",
    "        period = str(row[\"Period\"])\n",
    "        pk = row[\"pk\"]\n",
    "        \n",
    "        year, month = period.split(\".\")\n",
    "        day = calendar.monthrange(int(year), int(month))[1]\n",
    "\n",
    "        heavy_math = math.log((int(year) ** int(month)) * day)\n",
    "\n",
    "        d.loc[d[\"pk\"] == pk, 'heavy_math'] = heavy_math\n",
    "\n",
    "    # return the chunk!\n",
    "    return d\n",
    "    \n",
    "    \n",
    "def parallelize_dataframe_future(df, func, n_cores=4):\n",
    "   \n",
    "    # calculate the chunk size as an integer\n",
    "    df_chunks = np.array_split(df, n_cores)\n",
    "    \n",
    "    pool = concurrent.futures.ProcessPoolExecutor(max_workers=n_cores)\n",
    "    \n",
    "    # apply the function on each chunk\n",
    "    df = pd.concat(pool.map(multicore_process, df_chunks))\n",
    "    \n",
    "    return df"
   ]
  },
  {
   "cell_type": "code",
   "execution_count": 9,
   "id": "bd3f38f7-717b-401e-8686-65c4cd77d3b7",
   "metadata": {
    "pycharm": {
     "name": "#%%\n"
    }
   },
   "outputs": [
    {
     "name": "stdout",
     "output_type": "stream",
     "text": [
      "time: 515 ms (started: 2022-10-12 13:47:38 -04:00)\n"
     ]
    }
   ],
   "source": [
    "from src.multicore import parallelize_dataframe_future\n",
    "import multiprocessing\n",
    "\n",
    "df[\"heavy_math\"] = pd.NA\n",
    "\n",
    "# create as many processes as there are CPUs on your machine\n",
    "num_processes = multiprocessing.cpu_count()\n",
    "\n",
    "# apply our function to the dataframe\n",
    "df = parallelize_dataframe_future(df, parallelize_dataframe_future, num_processes)"
   ]
  },
  {
   "cell_type": "markdown",
   "id": "91abcdfa-cd67-4876-96a1-a072065e5c31",
   "metadata": {
    "pycharm": {
     "name": "#%% md\n"
    }
   },
   "source": [
    "## Dask"
   ]
  },
  {
   "cell_type": "code",
   "execution_count": 10,
   "id": "f5ea3265-15fe-474f-96b3-92057257b460",
   "metadata": {
    "pycharm": {
     "name": "#%%\n"
    }
   },
   "outputs": [
    {
     "name": "stderr",
     "output_type": "stream",
     "text": [
      "/opt/miniconda3/envs/pandas-speed-up/lib/python3.8/site-packages/dask/dataframe/core.py:6597: FutureWarning: Meta is not valid, `map_partitions` and `map_overlap` expects output to be a pandas object. Try passing a pandas object as meta or a dict or tuple representing the (name, dtype) of the columns. In the future the meta you passed will not work.\n",
      "  warnings.warn(\n"
     ]
    },
    {
     "name": "stdout",
     "output_type": "stream",
     "text": [
      "time: 813 ms (started: 2022-10-12 13:47:39 -04:00)\n"
     ]
    }
   ],
   "source": [
    "import multiprocessing\n",
    "import dask.dataframe as ddf\n",
    "\n",
    "def proccess_dask(row):\n",
    "    period = str(row[\"Period\"])\n",
    "    pk = row[\"pk\"]\n",
    "    \n",
    "    year, month = period.split(\".\")\n",
    "    day = calendar.monthrange(int(year), int(month))[1]\n",
    "    \n",
    "    heavy_math = math.log((int(year) ** int(month)) * day)\n",
    "        \n",
    "    return heavy_math\n",
    "\n",
    "\n",
    "df[\"heavy_math\"] = pd.NA\n",
    "\n",
    "# create as many processes as there are CPUs on your machine\n",
    "num_processes = multiprocessing.cpu_count()\n",
    "\n",
    "# where the number of partitions is the number of cores you want to use\n",
    "df_dask = ddf.from_pandas(df, npartitions=num_processes)\n",
    "\n",
    "df_dask[\"heavy_math\"] = df_dask.apply(lambda x: proccess_dask(x),\n",
    "                                      axis=1,\n",
    "                                      meta=pd.DataFrame).compute(scheduler='multiprocessing')"
   ]
  },
  {
   "cell_type": "markdown",
   "id": "b06ebb52-572e-4f08-b75f-373a6c0a08ee",
   "metadata": {
    "pycharm": {
     "name": "#%% md\n"
    }
   },
   "source": [
    "## Vectorization"
   ]
  },
  {
   "cell_type": "markdown",
   "id": "4d0abfbd-18c6-4e31-bcc9-18b3fc6a3fc2",
   "metadata": {
    "pycharm": {
     "name": "#%% md\n"
    }
   },
   "source": [
    "Vectorization means to use `pandas` and `numpy` built-in functions. Among all those functions, the following functions are very useful to vectorize data processing in `pandas`:\n",
    "\n",
    "- pd.cumsum()\n",
    "- pd.shift()\n",
    "- pd.ffill()\n",
    "- pd.bfill()\n",
    "- np.where()\n",
    "\n",
    "And using `numpy` library for mathematical functions on `pandas` dataframe, such as:\n",
    "\n",
    "- np.log()\n",
    "- np.std()\n",
    "- np.mean()\n",
    "- etc.\n"
   ]
  },
  {
   "cell_type": "code",
   "execution_count": 11,
   "id": "ef52540d-8f3c-4b3f-af05-7e1a49f082ca",
   "metadata": {
    "pycharm": {
     "name": "#%%\n"
    }
   },
   "outputs": [
    {
     "name": "stdout",
     "output_type": "stream",
     "text": [
      "time: 24.3 ms (started: 2022-10-12 13:47:40 -04:00)\n"
     ]
    },
    {
     "name": "stderr",
     "output_type": "stream",
     "text": [
      "/opt/miniconda3/envs/pandas-speed-up/lib/python3.8/site-packages/pandas/core/arraylike.py:397: RuntimeWarning: divide by zero encountered in log\n",
      "  result = getattr(ufunc, method)(*inputs, **kwargs)\n",
      "/opt/miniconda3/envs/pandas-speed-up/lib/python3.8/site-packages/pandas/core/arraylike.py:397: RuntimeWarning: invalid value encountered in log\n",
      "  result = getattr(ufunc, method)(*inputs, **kwargs)\n"
     ]
    }
   ],
   "source": [
    "import numpy as np\n",
    "import pandas as pd\n",
    "\n",
    "df = df.astype({'Period': 'str'})\n",
    "\n",
    "df[['period_year', 'period_month']] = df['Period'].str.split('.', expand=True)\n",
    "\n",
    "df = df.astype({\n",
    "                'period_year': 'int',\n",
    "                'period_month': 'int'\n",
    "                })\n",
    "\n",
    "df[\"period_day\"] = pd.to_datetime(df['period_year'].astype(str) + '-' + df['period_month'].astype(str) + '-1',\n",
    "                                  format='%Y-%m-%d').dt.days_in_month.astype(int)\n",
    "\n",
    "df[\"heavy_math\"] = np.log(df['period_year'].pow(df['period_month']) * df[\"period_day\"])"
   ]
  }
 ],
 "metadata": {
  "kernelspec": {
   "display_name": "Python 3 (ipykernel)",
   "language": "python",
   "name": "python3"
  },
  "language_info": {
   "codemirror_mode": {
    "name": "ipython",
    "version": 3
   },
   "file_extension": ".py",
   "mimetype": "text/x-python",
   "name": "python",
   "nbconvert_exporter": "python",
   "pygments_lexer": "ipython3",
   "version": "3.8.13"
  }
 },
 "nbformat": 4,
 "nbformat_minor": 5
}
